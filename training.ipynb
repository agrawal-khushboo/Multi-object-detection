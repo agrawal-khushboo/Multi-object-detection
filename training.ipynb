{
 "cells": [
  {
   "cell_type": "code",
   "execution_count": 1,
   "metadata": {},
   "outputs": [
    {
     "name": "stderr",
     "output_type": "stream",
     "text": [
      "Using TensorFlow backend.\n"
     ]
    }
   ],
   "source": [
    "%run data_r.ipynb\n",
    "import numpy as np\n",
    "from sklearn.model_selection import train_test_split\n",
    "\n",
    "#Data Parameters\n",
    "train_image_folder = \"/datasets/ee285f-public/PascalVOC2012/JPEGImages/\"\n",
    "train_annot_folder = \"/datasets/ee285f-public/PascalVOC2012/Annotations/\"\n",
    "path_to_weight     = './data/yolov2weights.h5'\n",
    "#Genaral Parameters\n",
    "\n",
    "ANCHORS            = np.array([1.07709888,  1.78171903,2.71054693,  5.12469308,5.48531347,  8.11011331])\n",
    "IMAGE_H, IMAGE_W   = 416, 416\n",
    "GRID_H,  GRID_W    = 13 , 13\n",
    "TRUE_BOX_BUFFER    = 50\n",
    "BOX                = int(len(ANCHORS)/2)\n",
    "CLASS              = 20\n",
    "\n",
    "#Loss Function Parametes\n",
    "LAMBDA_NO_OBJECT   = 1.0\n",
    "LAMBDA_OBJECT      = 5.0\n",
    "LAMBDA_COORD       = 1.0\n",
    "LAMBDA_CLASS       = 1.0\n",
    "\n",
    "#Training Model Parameters\n",
    "BATCH_SIZE         = 32\n",
    "EPOCHS             = 50\n",
    "LEARNING_RATE      = 0.5e-4\n",
    "BETA_1             = 0.9\n",
    "BETA_2             = 0.999\n",
    "EPSILON            = 1e-08\n",
    "DECAY              = 0.0\n",
    "SAVE_WEIGHT_D      = './weightst.{epoch:02d}.hdf5'\n",
    "\n",
    "#Architecure Parameters\n",
    "nb_conv            = 22\n",
    "normalize          = lambda x: x/255.\n",
    "\n"
   ]
  },
  {
   "cell_type": "code",
   "execution_count": 2,
   "metadata": {},
   "outputs": [],
   "source": [
    "%run model_r.ipynb\n",
    "%run weight_r.ipynb\n",
    "%run loss_r.ipynb\n",
    "images, seen_train_labels = parse_annotation(train_annot_folder,train_image_folder, labels=LABELS)\n",
    "train_image, val_image   = train_test_split(images, test_size=0.1, random_state=42)\n",
    "generator_config          = {'IMAGE_H': IMAGE_H,'IMAGE_W': IMAGE_W,'GRID_H': GRID_H,'GRID_W': GRID_W,\n",
    "                             'LABELS': LABELS,'ANCHORS': ANCHORS,'BATCH_SIZE': BATCH_SIZE,'TRUE_BOX_BUFFER' : TRUE_BOX_BUFFER,}\n",
    "train_batch_generator     = SimpleBatchGenerator(train_image, generator_config, norm=normalize, shuffle=True)\n",
    "model, true_boxes         = define_YOLOv2(IMAGE_H,IMAGE_W,GRID_H,GRID_W,TRUE_BOX_BUFFER,BOX,CLASS,trainable=False)\n",
    "model                     = set_pretrained_weight(model,nb_conv, path_to_weight)\n",
    "layer                     = model.layers[-4] \n",
    "initialize_weight(layer,sd=1/(GRID_H*GRID_W)) \n"
   ]
  },
  {
   "cell_type": "code",
   "execution_count": null,
   "metadata": {},
   "outputs": [
    {
     "name": "stdout",
     "output_type": "stream",
     "text": [
      "Epoch 1/50\n"
     ]
    },
    {
     "name": "stderr",
     "output_type": "stream",
     "text": [
      "/usr/local/lib/python2.7/dist-packages/ipykernel_launcher.py:104: DeprecationWarning: `imresize` is deprecated!\n",
      "`imresize` is deprecated in SciPy 1.0.0, and will be removed in 1.3.0.\n",
      "Use Pillow instead: ``numpy.array(Image.fromarray(arr).resize())``.\n"
     ]
    },
    {
     "name": "stdout",
     "output_type": "stream",
     "text": [
      "359/359 [==============================] - 253s 706ms/step - loss: 4.4383\n",
      "\n",
      "Epoch 00001: loss improved from inf to 4.43830, saving model to save/weightst.01.hdf5\n",
      "Epoch 2/50\n",
      "359/359 [==============================] - 270s 751ms/step - loss: 2.8420\n",
      "\n",
      "Epoch 00002: loss improved from 4.43830 to 2.84201, saving model to save/weightst.02.hdf5\n",
      "Epoch 3/50\n",
      "359/359 [==============================] - 280s 780ms/step - loss: 2.3849\n",
      "\n",
      "Epoch 00003: loss improved from 2.84201 to 2.38485, saving model to save/weightst.03.hdf5\n",
      "Epoch 4/50\n",
      "359/359 [==============================] - 280s 781ms/step - loss: 2.0912\n",
      "\n",
      "Epoch 00004: loss improved from 2.38485 to 2.09117, saving model to save/weightst.04.hdf5\n",
      "Epoch 5/50\n",
      "359/359 [==============================] - 275s 765ms/step - loss: 1.9083\n",
      "\n",
      "Epoch 00005: loss improved from 2.09117 to 1.90832, saving model to save/weightst.05.hdf5\n",
      "Epoch 6/50\n",
      "359/359 [==============================] - 284s 792ms/step - loss: 1.7665\n",
      "\n",
      "Epoch 00006: loss improved from 1.90832 to 1.76654, saving model to save/weightst.06.hdf5\n",
      "Epoch 7/50\n",
      "359/359 [==============================] - 285s 794ms/step - loss: 1.6602\n",
      "\n",
      "Epoch 00007: loss improved from 1.76654 to 1.66023, saving model to save/weightst.07.hdf5\n",
      "Epoch 8/50\n",
      "359/359 [==============================] - 290s 808ms/step - loss: 1.5833\n",
      "\n",
      "Epoch 00008: loss improved from 1.66023 to 1.58332, saving model to save/weightst.08.hdf5\n",
      "Epoch 9/50\n",
      "359/359 [==============================] - 288s 802ms/step - loss: 1.5306\n",
      "\n",
      "Epoch 00009: loss improved from 1.58332 to 1.53063, saving model to save/weightst.09.hdf5\n",
      "Epoch 10/50\n",
      "359/359 [==============================] - 281s 782ms/step - loss: 1.4786\n",
      "\n",
      "Epoch 00010: loss improved from 1.53063 to 1.47857, saving model to save/weightst.10.hdf5\n",
      "Epoch 11/50\n",
      "359/359 [==============================] - 277s 771ms/step - loss: 1.4309\n",
      "\n",
      "Epoch 00011: loss improved from 1.47857 to 1.43093, saving model to save/weightst.11.hdf5\n",
      "Epoch 12/50\n",
      "359/359 [==============================] - 289s 805ms/step - loss: 1.3992\n",
      "\n",
      "Epoch 00012: loss improved from 1.43093 to 1.39924, saving model to save/weightst.12.hdf5\n",
      "Epoch 13/50\n",
      "133/359 [==========>...................] - ETA: 3:05 - loss: 1.3626"
     ]
    }
   ],
   "source": [
    "#Set up experiment\n",
    "from keras.callbacks import EarlyStopping, ModelCheckpoint\n",
    "from keras.optimizers import SGD, Adam, RMSprop\n",
    "from keras import losses\n",
    "import os\n",
    "def custom_loss(y_true, y_pred):\n",
    "    return(custom_loss_core(y_true,y_pred,true_boxes,GRID_W,GRID_H,BATCH_SIZE,\n",
    "            ANCHORS,LAMBDA_COORD,LAMBDA_CLASS,LAMBDA_NO_OBJECT, LAMBDA_OBJECT))\n",
    "\n",
    "dir_log = \"logs/\"\n",
    "try:\n",
    "    os.makedirs(dir_log)\n",
    "except:\n",
    "    pass\n",
    "generator_config['BATCH_SIZE'] = BATCH_SIZE\n",
    "early_stop = EarlyStopping(monitor='loss', min_delta=0.001, patience=3, mode='min', verbose=1)\n",
    "checkpoint = ModelCheckpoint(SAVE_WEIGHT_D,save_weights_only = True,monitor='loss',\n",
    "                              verbose=1, save_best_only=True, mode='min', period=1)\n",
    "optimizer  = Adam(lr=LEARNING_RATE, beta_1=BETA_1, beta_2=BETA_2, epsilon=EPSILON, decay=DECAY)\n",
    "\n",
    "losses.custom_loss = custom_loss\n",
    "model.compile(loss=custom_loss, optimizer=optimizer)\n",
    "\n",
    "history = model.fit_generator(generator = train_batch_generator, steps_per_epoch = len(train_batch_generator), epochs = EPOCHS,\n",
    "                              verbose = 1,callbacks = [early_stop, checkpoint], max_queue_size   = 3)\n"
   ]
  },
  {
   "cell_type": "code",
   "execution_count": null,
   "metadata": {},
   "outputs": [],
   "source": [
    "#POST TRAINING ANALISYS\n",
    "import numpy as np\n",
    "import matplotlib.pyplot as plt\n",
    "loss = history.history['loss']\n",
    "x = np.arange(0, len(loss))\n",
    "y = np.array(loss)\n",
    "fig, ax = plt.subplots()\n",
    "line, = ax.plot(x, y, label='Training Loss')\n",
    "line.set_linestyle('-')\n",
    "line.set_linewidth(2)\n",
    "ax.set_xlabel('Epoch #')\n",
    "ax.set_ylabel('Loss')\n",
    "\n",
    "\n",
    "ax.legend()\n",
    "plt.show()"
   ]
  },
  {
   "cell_type": "code",
   "execution_count": null,
   "metadata": {},
   "outputs": [],
   "source": []
  }
 ],
 "metadata": {
  "kernelspec": {
   "display_name": "Python 3",
   "language": "python",
   "name": "python3"
  },
  "language_info": {
   "codemirror_mode": {
    "name": "ipython",
    "version": 3
   },
   "file_extension": ".py",
   "mimetype": "text/x-python",
   "name": "python",
   "nbconvert_exporter": "python",
   "pygments_lexer": "ipython3",
   "version": "3.6.8"
  }
 },
 "nbformat": 4,
 "nbformat_minor": 2
}
